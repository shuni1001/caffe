{
 "metadata": {
  "name": ""
 },
 "nbformat": 3,
 "nbformat_minor": 0,
 "worksheets": [
  {
   "cells": [
    {
     "cell_type": "code",
     "collapsed": false,
     "input": [
      "import sys\n",
      "sys.path.append(\"python\")"
     ],
     "language": "python",
     "metadata": {},
     "outputs": [],
     "prompt_number": 1
    },
    {
     "cell_type": "code",
     "collapsed": false,
     "input": [
      "from caffe import layers as L, params as P, to_proto"
     ],
     "language": "python",
     "metadata": {},
     "outputs": [],
     "prompt_number": 2
    },
    {
     "cell_type": "code",
     "collapsed": false,
     "input": [
      "from caffe.proto import caffe_pb2"
     ],
     "language": "python",
     "metadata": {},
     "outputs": [],
     "prompt_number": 3
    },
    {
     "cell_type": "code",
     "collapsed": false,
     "input": [
      "def conv_relu(bottom, ks, nout, stride=1, pad=0, group=1):\n",
      "    conv = L.Convolution(bottom, kernel_size=ks, stride=stride,\n",
      "                                num_output=nout, pad=pad, group=group)\n",
      "    return conv, L.ReLU(conv, in_place=True)\n",
      "\n",
      "def fc_relu(bottom, nout):\n",
      "    fc = L.InnerProduct(bottom, num_output=nout)\n",
      "    return fc, L.ReLU(fc, in_place=True)\n",
      "\n",
      "def max_pool(bottom, ks, stride=1):\n",
      "    return L.Pooling(bottom, pool=P.Pooling.MAX, kernel_size=ks, stride=stride)\n",
      "\n",
      "def alexnet(lmdb, batch_size=256, include_acc=False):\n",
      "    data, label = L.Data(source=lmdb, backend=P.Data.LMDB, batch_size=batch_size, ntop=2,\n",
      "        transform_param=dict(crop_size=227, mean_value=[104, 117, 123], mirror=True))\n",
      "\n",
      "    # the net itself\n",
      "    conv1, relu1 = conv_relu(data, 11, 96, stride=4)\n",
      "    pool1 = max_pool(relu1, 3, stride=2)\n",
      "    norm1 = L.LRN(pool1, local_size=5, alpha=1e-4, beta=0.75)\n",
      "    conv2, relu2 = conv_relu(norm1, 5, 256, pad=2, group=2)\n",
      "    pool2 = max_pool(relu2, 3, stride=2)\n",
      "    norm2 = L.LRN(pool2, local_size=5, alpha=1e-4, beta=0.75)\n",
      "    conv3, relu3 = conv_relu(norm2, 3, 384, pad=1)\n",
      "    conv4, relu4 = conv_relu(relu3, 3, 384, pad=1, group=2)\n",
      "    conv5, relu5 = conv_relu(relu4, 3, 256, pad=1, group=2)\n",
      "    pool5 = max_pool(relu5, 3, stride=2)\n",
      "    fc6, relu6 = fc_relu(pool5, 4096)\n",
      "    drop6 = L.Dropout(relu6, in_place=True)\n",
      "    fc7, relu7 = fc_relu(drop6, 4096)\n",
      "    drop7 = L.Dropout(relu7, in_place=True)\n",
      "    fc8 = L.InnerProduct(drop7, num_output=1000)\n",
      "    loss = L.SoftmaxWithLoss(fc8, label)\n",
      "\n",
      "    if include_acc:\n",
      "        acc = L.Accuracy(fc8, label)\n",
      "        return to_proto((loss, acc), {v: k for k, v in locals().iteritems()})\n",
      "    else:\n",
      "        return to_proto(loss, {v: k for k, v in locals().iteritems()})\n",
      "\n",
      "def make_net():\n",
      "    with open('train.prototxt', 'w') as f:\n",
      "        print >>f, alexnet('/path/to/caffe-train-lmdb')\n",
      "\n",
      "    with open('test.prototxt', 'w') as f:\n",
      "        print >>f, alexnet('/path/to/caffe-val-lmdb', batch_size=50, include_acc=True)\n",
      "\n",
      "if __name__ == '__main__':\n",
      "    make_net()"
     ],
     "language": "python",
     "metadata": {},
     "outputs": [
      {
       "ename": "AttributeError",
       "evalue": "'dict' object has no attribute 'fn'",
       "output_type": "pyerr",
       "traceback": [
        "\u001b[0;31m---------------------------------------------------------------------------\u001b[0m\n\u001b[0;31mAttributeError\u001b[0m                            Traceback (most recent call last)",
        "\u001b[0;32m<ipython-input-4-e5085ba2baaa>\u001b[0m in \u001b[0;36m<module>\u001b[0;34m()\u001b[0m\n\u001b[1;32m     47\u001b[0m \u001b[0;34m\u001b[0m\u001b[0m\n\u001b[1;32m     48\u001b[0m \u001b[0;32mif\u001b[0m \u001b[0m__name__\u001b[0m \u001b[0;34m==\u001b[0m \u001b[0;34m'__main__'\u001b[0m\u001b[0;34m:\u001b[0m\u001b[0;34m\u001b[0m\u001b[0m\n\u001b[0;32m---> 49\u001b[0;31m     \u001b[0mmake_net\u001b[0m\u001b[0;34m(\u001b[0m\u001b[0;34m)\u001b[0m\u001b[0;34m\u001b[0m\u001b[0m\n\u001b[0m",
        "\u001b[0;32m<ipython-input-4-e5085ba2baaa>\u001b[0m in \u001b[0;36mmake_net\u001b[0;34m()\u001b[0m\n\u001b[1;32m     41\u001b[0m \u001b[0;32mdef\u001b[0m \u001b[0mmake_net\u001b[0m\u001b[0;34m(\u001b[0m\u001b[0;34m)\u001b[0m\u001b[0;34m:\u001b[0m\u001b[0;34m\u001b[0m\u001b[0m\n\u001b[1;32m     42\u001b[0m     \u001b[0;32mwith\u001b[0m \u001b[0mopen\u001b[0m\u001b[0;34m(\u001b[0m\u001b[0;34m'train.prototxt'\u001b[0m\u001b[0;34m,\u001b[0m \u001b[0;34m'w'\u001b[0m\u001b[0;34m)\u001b[0m \u001b[0;32mas\u001b[0m \u001b[0mf\u001b[0m\u001b[0;34m:\u001b[0m\u001b[0;34m\u001b[0m\u001b[0m\n\u001b[0;32m---> 43\u001b[0;31m         \u001b[0;32mprint\u001b[0m \u001b[0;34m>>\u001b[0m\u001b[0mf\u001b[0m\u001b[0;34m,\u001b[0m \u001b[0malexnet\u001b[0m\u001b[0;34m(\u001b[0m\u001b[0;34m'/path/to/caffe-train-lmdb'\u001b[0m\u001b[0;34m)\u001b[0m\u001b[0;34m\u001b[0m\u001b[0m\n\u001b[0m\u001b[1;32m     44\u001b[0m \u001b[0;34m\u001b[0m\u001b[0m\n\u001b[1;32m     45\u001b[0m     \u001b[0;32mwith\u001b[0m \u001b[0mopen\u001b[0m\u001b[0;34m(\u001b[0m\u001b[0;34m'test.prototxt'\u001b[0m\u001b[0;34m,\u001b[0m \u001b[0;34m'w'\u001b[0m\u001b[0;34m)\u001b[0m \u001b[0;32mas\u001b[0m \u001b[0mf\u001b[0m\u001b[0;34m:\u001b[0m\u001b[0;34m\u001b[0m\u001b[0m\n",
        "\u001b[0;32m<ipython-input-4-e5085ba2baaa>\u001b[0m in \u001b[0;36malexnet\u001b[0;34m(lmdb, batch_size, include_acc)\u001b[0m\n\u001b[1;32m     37\u001b[0m         \u001b[0;32mreturn\u001b[0m \u001b[0mto_proto\u001b[0m\u001b[0;34m(\u001b[0m\u001b[0;34m(\u001b[0m\u001b[0mloss\u001b[0m\u001b[0;34m,\u001b[0m \u001b[0macc\u001b[0m\u001b[0;34m)\u001b[0m\u001b[0;34m,\u001b[0m \u001b[0;34m{\u001b[0m\u001b[0mv\u001b[0m\u001b[0;34m:\u001b[0m \u001b[0mk\u001b[0m \u001b[0;32mfor\u001b[0m \u001b[0mk\u001b[0m\u001b[0;34m,\u001b[0m \u001b[0mv\u001b[0m \u001b[0;32min\u001b[0m \u001b[0mlocals\u001b[0m\u001b[0;34m(\u001b[0m\u001b[0;34m)\u001b[0m\u001b[0;34m.\u001b[0m\u001b[0miteritems\u001b[0m\u001b[0;34m(\u001b[0m\u001b[0;34m)\u001b[0m\u001b[0;34m}\u001b[0m\u001b[0;34m)\u001b[0m\u001b[0;34m\u001b[0m\u001b[0m\n\u001b[1;32m     38\u001b[0m     \u001b[0;32melse\u001b[0m\u001b[0;34m:\u001b[0m\u001b[0;34m\u001b[0m\u001b[0m\n\u001b[0;32m---> 39\u001b[0;31m         \u001b[0;32mreturn\u001b[0m \u001b[0mto_proto\u001b[0m\u001b[0;34m(\u001b[0m\u001b[0mloss\u001b[0m\u001b[0;34m,\u001b[0m \u001b[0;34m{\u001b[0m\u001b[0mv\u001b[0m\u001b[0;34m:\u001b[0m \u001b[0mk\u001b[0m \u001b[0;32mfor\u001b[0m \u001b[0mk\u001b[0m\u001b[0;34m,\u001b[0m \u001b[0mv\u001b[0m \u001b[0;32min\u001b[0m \u001b[0mlocals\u001b[0m\u001b[0;34m(\u001b[0m\u001b[0;34m)\u001b[0m\u001b[0;34m.\u001b[0m\u001b[0miteritems\u001b[0m\u001b[0;34m(\u001b[0m\u001b[0;34m)\u001b[0m\u001b[0;34m}\u001b[0m\u001b[0;34m)\u001b[0m\u001b[0;34m\u001b[0m\u001b[0m\n\u001b[0m\u001b[1;32m     40\u001b[0m \u001b[0;34m\u001b[0m\u001b[0m\n\u001b[1;32m     41\u001b[0m \u001b[0;32mdef\u001b[0m \u001b[0mmake_net\u001b[0m\u001b[0;34m(\u001b[0m\u001b[0;34m)\u001b[0m\u001b[0;34m:\u001b[0m\u001b[0;34m\u001b[0m\u001b[0m\n",
        "\u001b[0;32m/mnt/members/shuni/2015_spring/gits/caffe/python/caffe/net_spec.pyc\u001b[0m in \u001b[0;36mto_proto\u001b[0;34m(*tops)\u001b[0m\n\u001b[1;32m     50\u001b[0m     \u001b[0mautonames\u001b[0m \u001b[0;34m=\u001b[0m \u001b[0;34m{\u001b[0m\u001b[0;34m}\u001b[0m\u001b[0;34m\u001b[0m\u001b[0m\n\u001b[1;32m     51\u001b[0m     \u001b[0;32mfor\u001b[0m \u001b[0mtop\u001b[0m \u001b[0;32min\u001b[0m \u001b[0mtops\u001b[0m\u001b[0;34m:\u001b[0m\u001b[0;34m\u001b[0m\u001b[0m\n\u001b[0;32m---> 52\u001b[0;31m         \u001b[0mtop\u001b[0m\u001b[0;34m.\u001b[0m\u001b[0mfn\u001b[0m\u001b[0;34m.\u001b[0m\u001b[0m_to_proto\u001b[0m\u001b[0;34m(\u001b[0m\u001b[0mlayers\u001b[0m\u001b[0;34m,\u001b[0m \u001b[0;34m{\u001b[0m\u001b[0;34m}\u001b[0m\u001b[0;34m,\u001b[0m \u001b[0mautonames\u001b[0m\u001b[0;34m)\u001b[0m\u001b[0;34m\u001b[0m\u001b[0m\n\u001b[0m\u001b[1;32m     53\u001b[0m     \u001b[0mnet\u001b[0m \u001b[0;34m=\u001b[0m \u001b[0mcaffe_pb2\u001b[0m\u001b[0;34m.\u001b[0m\u001b[0mNetParameter\u001b[0m\u001b[0;34m(\u001b[0m\u001b[0;34m)\u001b[0m\u001b[0;34m\u001b[0m\u001b[0m\n\u001b[1;32m     54\u001b[0m     \u001b[0mnet\u001b[0m\u001b[0;34m.\u001b[0m\u001b[0mlayer\u001b[0m\u001b[0;34m.\u001b[0m\u001b[0mextend\u001b[0m\u001b[0;34m(\u001b[0m\u001b[0mlayers\u001b[0m\u001b[0;34m.\u001b[0m\u001b[0mvalues\u001b[0m\u001b[0;34m(\u001b[0m\u001b[0;34m)\u001b[0m\u001b[0;34m)\u001b[0m\u001b[0;34m\u001b[0m\u001b[0m\n",
        "\u001b[0;31mAttributeError\u001b[0m: 'dict' object has no attribute 'fn'"
       ]
      }
     ],
     "prompt_number": 4
    },
    {
     "cell_type": "code",
     "collapsed": false,
     "input": [
      "numpy.__config__.show()"
     ],
     "language": "python",
     "metadata": {},
     "outputs": [
      {
       "output_type": "stream",
       "stream": "stdout",
       "text": [
        "lapack_opt_info:\n",
        "    libraries = ['mkl_rt', 'pthread']\n",
        "    library_dirs = ['/opt/intel/mkl/lib/intel64']\n",
        "    define_macros = [('SCIPY_MKL_H', None)]\n",
        "    include_dirs = ['/opt/intel/mkl/include']\n",
        "blas_opt_info:\n",
        "    libraries = ['mkl_rt', 'pthread']\n",
        "    library_dirs = ['/opt/intel/mkl/lib/intel64']\n",
        "    define_macros = [('SCIPY_MKL_H', None)]\n",
        "    include_dirs = ['/opt/intel/mkl/include']\n",
        "openblas_lapack_info:\n",
        "  NOT AVAILABLE\n",
        "lapack_mkl_info:\n",
        "    libraries = ['mkl_rt', 'pthread']\n",
        "    library_dirs = ['/opt/intel/mkl/lib/intel64']\n",
        "    define_macros = [('SCIPY_MKL_H', None)]\n",
        "    include_dirs = ['/opt/intel/mkl/include']\n",
        "blas_mkl_info:\n",
        "    libraries = ['mkl_rt', 'pthread']\n",
        "    library_dirs = ['/opt/intel/mkl/lib/intel64']\n",
        "    define_macros = [('SCIPY_MKL_H', None)]\n",
        "    include_dirs = ['/opt/intel/mkl/include']\n",
        "mkl_info:\n",
        "    libraries = ['mkl_rt', 'pthread']\n",
        "    library_dirs = ['/opt/intel/mkl/lib/intel64']\n",
        "    define_macros = [('SCIPY_MKL_H', None)]\n",
        "    include_dirs = ['/opt/intel/mkl/include']\n"
       ]
      }
     ],
     "prompt_number": 7
    },
    {
     "cell_type": "code",
     "collapsed": false,
     "input": [],
     "language": "python",
     "metadata": {},
     "outputs": []
    }
   ],
   "metadata": {}
  }
 ]
}